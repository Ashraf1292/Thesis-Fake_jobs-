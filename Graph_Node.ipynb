{
  "nbformat": 4,
  "nbformat_minor": 0,
  "metadata": {
    "colab": {
      "provenance": [],
      "gpuType": "V28",
      "authorship_tag": "ABX9TyPseAK6YbYMqct+9E/A4rxw",
      "include_colab_link": true
    },
    "kernelspec": {
      "name": "python3",
      "display_name": "Python 3"
    },
    "language_info": {
      "name": "python"
    },
    "accelerator": "TPU"
  },
  "cells": [
    {
      "cell_type": "markdown",
      "metadata": {
        "id": "view-in-github",
        "colab_type": "text"
      },
      "source": [
        "<a href=\"https://colab.research.google.com/github/Ashraf1292/Thesis-Fake_jobs-/blob/main/Graph_Node.ipynb\" target=\"_parent\"><img src=\"https://colab.research.google.com/assets/colab-badge.svg\" alt=\"Open In Colab\"/></a>"
      ]
    },
    {
      "cell_type": "code",
      "execution_count": 1,
      "metadata": {
        "colab": {
          "base_uri": "https://localhost:8080/"
        },
        "id": "-XSvKaRIiYIp",
        "outputId": "2b837448-92a0-4aaf-9c04-80a65f4af257"
      },
      "outputs": [
        {
          "output_type": "stream",
          "name": "stdout",
          "text": [
            "Collecting torch_geometric\n",
            "  Downloading torch_geometric-2.6.1-py3-none-any.whl.metadata (63 kB)\n",
            "\u001b[?25l     \u001b[90m━━━━━━━━━━━━━━━━━━━━━━━━━━━━━━━━━━━━━━━━\u001b[0m \u001b[32m0.0/63.1 kB\u001b[0m \u001b[31m?\u001b[0m eta \u001b[36m-:--:--\u001b[0m\r\u001b[2K     \u001b[90m━━━━━━━━━━━━━━━━━━━━━━━━━━━━━━━━━━━━━━━━\u001b[0m \u001b[32m63.1/63.1 kB\u001b[0m \u001b[31m1.9 MB/s\u001b[0m eta \u001b[36m0:00:00\u001b[0m\n",
            "\u001b[?25hRequirement already satisfied: transformers in /usr/local/lib/python3.11/dist-packages (4.51.3)\n",
            "Collecting shap\n",
            "  Downloading shap-0.47.2-cp311-cp311-manylinux_2_17_x86_64.manylinux2014_x86_64.whl.metadata (25 kB)\n",
            "Requirement already satisfied: aiohttp in /usr/local/lib/python3.11/dist-packages (from torch_geometric) (3.11.15)\n",
            "Requirement already satisfied: fsspec in /usr/local/lib/python3.11/dist-packages (from torch_geometric) (2025.3.2)\n",
            "Requirement already satisfied: jinja2 in /usr/local/lib/python3.11/dist-packages (from torch_geometric) (3.1.6)\n",
            "Requirement already satisfied: numpy in /usr/local/lib/python3.11/dist-packages (from torch_geometric) (2.0.2)\n",
            "Requirement already satisfied: psutil>=5.8.0 in /usr/local/lib/python3.11/dist-packages (from torch_geometric) (5.9.5)\n",
            "Requirement already satisfied: pyparsing in /usr/local/lib/python3.11/dist-packages (from torch_geometric) (3.2.3)\n",
            "Requirement already satisfied: requests in /usr/local/lib/python3.11/dist-packages (from torch_geometric) (2.32.3)\n",
            "Requirement already satisfied: tqdm in /usr/local/lib/python3.11/dist-packages (from torch_geometric) (4.67.1)\n",
            "Requirement already satisfied: filelock in /usr/local/lib/python3.11/dist-packages (from transformers) (3.18.0)\n",
            "Requirement already satisfied: huggingface-hub<1.0,>=0.30.0 in /usr/local/lib/python3.11/dist-packages (from transformers) (0.30.2)\n",
            "Requirement already satisfied: packaging>=20.0 in /usr/local/lib/python3.11/dist-packages (from transformers) (25.0)\n",
            "Requirement already satisfied: pyyaml>=5.1 in /usr/local/lib/python3.11/dist-packages (from transformers) (6.0.2)\n",
            "Requirement already satisfied: regex!=2019.12.17 in /usr/local/lib/python3.11/dist-packages (from transformers) (2024.11.6)\n",
            "Requirement already satisfied: tokenizers<0.22,>=0.21 in /usr/local/lib/python3.11/dist-packages (from transformers) (0.21.1)\n",
            "Requirement already satisfied: safetensors>=0.4.3 in /usr/local/lib/python3.11/dist-packages (from transformers) (0.5.3)\n",
            "Requirement already satisfied: scipy in /usr/local/lib/python3.11/dist-packages (from shap) (1.15.2)\n",
            "Requirement already satisfied: scikit-learn in /usr/local/lib/python3.11/dist-packages (from shap) (1.6.1)\n",
            "Requirement already satisfied: pandas in /usr/local/lib/python3.11/dist-packages (from shap) (2.2.2)\n",
            "Collecting slicer==0.0.8 (from shap)\n",
            "  Downloading slicer-0.0.8-py3-none-any.whl.metadata (4.0 kB)\n",
            "Requirement already satisfied: numba>=0.54 in /usr/local/lib/python3.11/dist-packages (from shap) (0.61.2)\n",
            "Requirement already satisfied: cloudpickle in /usr/local/lib/python3.11/dist-packages (from shap) (3.1.1)\n",
            "Requirement already satisfied: typing-extensions in /usr/local/lib/python3.11/dist-packages (from shap) (4.13.2)\n",
            "Requirement already satisfied: llvmlite<0.45,>=0.44.0dev0 in /usr/local/lib/python3.11/dist-packages (from numba>=0.54->shap) (0.44.0)\n",
            "Requirement already satisfied: aiohappyeyeballs>=2.3.0 in /usr/local/lib/python3.11/dist-packages (from aiohttp->torch_geometric) (2.6.1)\n",
            "Requirement already satisfied: aiosignal>=1.1.2 in /usr/local/lib/python3.11/dist-packages (from aiohttp->torch_geometric) (1.3.2)\n",
            "Requirement already satisfied: attrs>=17.3.0 in /usr/local/lib/python3.11/dist-packages (from aiohttp->torch_geometric) (25.3.0)\n",
            "Requirement already satisfied: frozenlist>=1.1.1 in /usr/local/lib/python3.11/dist-packages (from aiohttp->torch_geometric) (1.6.0)\n",
            "Requirement already satisfied: multidict<7.0,>=4.5 in /usr/local/lib/python3.11/dist-packages (from aiohttp->torch_geometric) (6.4.3)\n",
            "Requirement already satisfied: propcache>=0.2.0 in /usr/local/lib/python3.11/dist-packages (from aiohttp->torch_geometric) (0.3.1)\n",
            "Requirement already satisfied: yarl<2.0,>=1.17.0 in /usr/local/lib/python3.11/dist-packages (from aiohttp->torch_geometric) (1.20.0)\n",
            "Requirement already satisfied: MarkupSafe>=2.0 in /usr/local/lib/python3.11/dist-packages (from jinja2->torch_geometric) (3.0.2)\n",
            "Requirement already satisfied: python-dateutil>=2.8.2 in /usr/local/lib/python3.11/dist-packages (from pandas->shap) (2.9.0.post0)\n",
            "Requirement already satisfied: pytz>=2020.1 in /usr/local/lib/python3.11/dist-packages (from pandas->shap) (2025.2)\n",
            "Requirement already satisfied: tzdata>=2022.7 in /usr/local/lib/python3.11/dist-packages (from pandas->shap) (2025.2)\n",
            "Requirement already satisfied: charset-normalizer<4,>=2 in /usr/local/lib/python3.11/dist-packages (from requests->torch_geometric) (3.4.1)\n",
            "Requirement already satisfied: idna<4,>=2.5 in /usr/local/lib/python3.11/dist-packages (from requests->torch_geometric) (3.10)\n",
            "Requirement already satisfied: urllib3<3,>=1.21.1 in /usr/local/lib/python3.11/dist-packages (from requests->torch_geometric) (2.4.0)\n",
            "Requirement already satisfied: certifi>=2017.4.17 in /usr/local/lib/python3.11/dist-packages (from requests->torch_geometric) (2025.4.26)\n",
            "Requirement already satisfied: joblib>=1.2.0 in /usr/local/lib/python3.11/dist-packages (from scikit-learn->shap) (1.4.2)\n",
            "Requirement already satisfied: threadpoolctl>=3.1.0 in /usr/local/lib/python3.11/dist-packages (from scikit-learn->shap) (3.6.0)\n",
            "Requirement already satisfied: six>=1.5 in /usr/local/lib/python3.11/dist-packages (from python-dateutil>=2.8.2->pandas->shap) (1.17.0)\n",
            "Downloading torch_geometric-2.6.1-py3-none-any.whl (1.1 MB)\n",
            "\u001b[2K   \u001b[90m━━━━━━━━━━━━━━━━━━━━━━━━━━━━━━━━━━━━━━━━\u001b[0m \u001b[32m1.1/1.1 MB\u001b[0m \u001b[31m18.4 MB/s\u001b[0m eta \u001b[36m0:00:00\u001b[0m\n",
            "\u001b[?25hDownloading shap-0.47.2-cp311-cp311-manylinux_2_17_x86_64.manylinux2014_x86_64.whl (1.0 MB)\n",
            "\u001b[2K   \u001b[90m━━━━━━━━━━━━━━━━━━━━━━━━━━━━━━━━━━━━━━━━\u001b[0m \u001b[32m1.0/1.0 MB\u001b[0m \u001b[31m47.6 MB/s\u001b[0m eta \u001b[36m0:00:00\u001b[0m\n",
            "\u001b[?25hDownloading slicer-0.0.8-py3-none-any.whl (15 kB)\n",
            "Installing collected packages: slicer, torch_geometric, shap\n",
            "Successfully installed shap-0.47.2 slicer-0.0.8 torch_geometric-2.6.1\n",
            "Looking in links: https://data.pyg.org/whl/torch-2.0.0+cpu.html\n",
            "Collecting torch-scatter\n",
            "  Downloading https://data.pyg.org/whl/torch-2.0.0%2Bcpu/torch_scatter-2.1.2%2Bpt20cpu-cp311-cp311-linux_x86_64.whl (494 kB)\n",
            "\u001b[2K     \u001b[90m━━━━━━━━━━━━━━━━━━━━━━━━━━━━━━━━━━━━━━━\u001b[0m \u001b[32m494.0/494.0 kB\u001b[0m \u001b[31m6.5 MB/s\u001b[0m eta \u001b[36m0:00:00\u001b[0m\n",
            "\u001b[?25hCollecting torch-sparse\n",
            "  Downloading https://data.pyg.org/whl/torch-2.0.0%2Bcpu/torch_sparse-0.6.18%2Bpt20cpu-cp311-cp311-linux_x86_64.whl (1.2 MB)\n",
            "\u001b[2K     \u001b[90m━━━━━━━━━━━━━━━━━━━━━━━━━━━━━━━━━━━━━━━━\u001b[0m \u001b[32m1.2/1.2 MB\u001b[0m \u001b[31m27.7 MB/s\u001b[0m eta \u001b[36m0:00:00\u001b[0m\n",
            "\u001b[?25hCollecting torch-cluster\n",
            "  Downloading https://data.pyg.org/whl/torch-2.0.0%2Bcpu/torch_cluster-1.6.3%2Bpt20cpu-cp311-cp311-linux_x86_64.whl (750 kB)\n",
            "\u001b[2K     \u001b[90m━━━━━━━━━━━━━━━━━━━━━━━━━━━━━━━━━━━━━━\u001b[0m \u001b[32m750.9/750.9 kB\u001b[0m \u001b[31m40.0 MB/s\u001b[0m eta \u001b[36m0:00:00\u001b[0m\n",
            "\u001b[?25hCollecting torch-spline-conv\n",
            "  Downloading https://data.pyg.org/whl/torch-2.0.0%2Bcpu/torch_spline_conv-1.2.2%2Bpt20cpu-cp311-cp311-linux_x86_64.whl (208 kB)\n",
            "\u001b[2K     \u001b[90m━━━━━━━━━━━━━━━━━━━━━━━━━━━━━━━━━━━━━━\u001b[0m \u001b[32m208.1/208.1 kB\u001b[0m \u001b[31m12.5 MB/s\u001b[0m eta \u001b[36m0:00:00\u001b[0m\n",
            "\u001b[?25hRequirement already satisfied: scipy in /usr/local/lib/python3.11/dist-packages (from torch-sparse) (1.15.2)\n",
            "Requirement already satisfied: numpy<2.5,>=1.23.5 in /usr/local/lib/python3.11/dist-packages (from scipy->torch-sparse) (2.0.2)\n",
            "Installing collected packages: torch-spline-conv, torch-scatter, torch-sparse, torch-cluster\n",
            "Successfully installed torch-cluster-1.6.3+pt20cpu torch-scatter-2.1.2+pt20cpu torch-sparse-0.6.18+pt20cpu torch-spline-conv-1.2.2+pt20cpu\n"
          ]
        }
      ],
      "source": [
        "import pandas as pd\n",
        "import numpy as np\n",
        "import torch\n",
        "import torch.nn as nn\n",
        "import torch.nn.functional as F\n",
        "from sklearn.preprocessing import LabelEncoder\n",
        "from sklearn.metrics.pairwise import cosine_similarity\n",
        "from sklearn.feature_extraction.text import TfidfVectorizer\n",
        "from sklearn.model_selection import train_test_split\n",
        "from sklearn.metrics import classification_report, confusion_matrix\n",
        "import nltk\n",
        "from nltk.corpus import stopwords\n",
        "import string\n",
        "import re\n",
        "import matplotlib.pyplot as plt\n",
        "import seaborn as sns\n",
        "import warnings\n",
        "warnings.filterwarnings('ignore')  # Suppress warnings\n",
        "\n",
        "# Install required dependencies\n",
        "!pip install torch_geometric transformers shap\n",
        "!pip install torch-scatter torch-sparse torch-cluster torch-spline-conv -f https://data.pyg.org/whl/torch-2.0.0+cpu.html\n",
        "\n",
        "# Import dependencies after installation\n",
        "from torch_geometric.nn import GATConv\n",
        "from torch_geometric.data import Data\n",
        "from transformers import DistilBertTokenizer, DistilBertModel\n",
        "import shap\n",
        "from google.colab import drive"
      ]
    },
    {
      "cell_type": "code",
      "source": [
        "# Download NLTK stopwords\n",
        "nltk.download('stopwords', quiet=True)\n",
        "stop_words = set(stopwords.words('english'))\n",
        "\n",
        "# Check if CUDA is available\n",
        "device = torch.device('cuda' if torch.cuda.is_available() else 'cpu')\n",
        "print(f\"Using device: {device}\")\n",
        "\n",
        "# Load EMSCAD dataset\n",
        "try:\n",
        "    data_path = 'fake_job_postings.csv'\n",
        "    df = pd.read_csv(data_path)\n",
        "    print(f\"Dataset loaded successfully with {df.shape[0]} rows and {df.shape[1]} columns\")\n",
        "except FileNotFoundError:\n",
        "    print(\"File not found. Please verify the path to your dataset.\")\n",
        "    # Try to find the file using a direct upload approach\n",
        "    from google.colab import files\n",
        "    print(\"Please upload your fake_job_postings.csv file\")\n",
        "    uploaded = files.upload()\n",
        "    df = pd.read_csv(list(uploaded.keys())[0])\n",
        "    print(f\"Dataset loaded from upload with {df.shape[0]} rows and {df.shape[1]} columns\")\n"
      ],
      "metadata": {
        "colab": {
          "base_uri": "https://localhost:8080/"
        },
        "id": "LsflMIdLjH_B",
        "outputId": "fd8c5b23-7943-42a5-9d87-22f7123b059c"
      },
      "execution_count": 2,
      "outputs": [
        {
          "output_type": "stream",
          "name": "stdout",
          "text": [
            "Using device: cpu\n",
            "Dataset loaded successfully with 17880 rows and 18 columns\n"
          ]
        }
      ]
    },
    {
      "cell_type": "code",
      "source": [
        "# Display basic dataset info\n",
        "print(f\"Fraudulent postings: {df['fraudulent'].sum()} ({df['fraudulent'].mean()*100:.2f}%)\")\n"
      ],
      "metadata": {
        "colab": {
          "base_uri": "https://localhost:8080/"
        },
        "id": "_nVDiD_DjK3z",
        "outputId": "56236819-f227-4b16-a71a-8c5c131c5e51"
      },
      "execution_count": 3,
      "outputs": [
        {
          "output_type": "stream",
          "name": "stdout",
          "text": [
            "Fraudulent postings: 866 (4.84%)\n"
          ]
        }
      ]
    },
    {
      "cell_type": "code",
      "source": [
        "# Preprocess text data\n",
        "def clean_text(text):\n",
        "    if pd.isna(text):\n",
        "        return \"\"\n",
        "    text = str(text).lower()\n",
        "    text = re.sub(r'http\\S+', '', text)  # Remove URLs\n",
        "    text = re.sub(r'<.*?>', '', text)    # Remove HTML tags\n",
        "    text = text.translate(str.maketrans('', '', string.punctuation))\n",
        "    text = ' '.join([word for word in text.split() if word not in stop_words])\n",
        "    return text\n",
        "\n",
        "# Apply text cleaning with progress tracking\n",
        "print(\"Cleaning text columns...\")\n",
        "text_columns = ['title', 'company_profile', 'description', 'requirements', 'benefits']\n",
        "for col in text_columns:\n",
        "    df[col] = df[col].fillna(\"\").apply(clean_text)\n",
        "    print(f\"  - {col} cleaned\")"
      ],
      "metadata": {
        "colab": {
          "base_uri": "https://localhost:8080/"
        },
        "id": "_x4lTIBrjN4u",
        "outputId": "5f452d45-774f-44a8-96c9-53fea4a681d5"
      },
      "execution_count": 4,
      "outputs": [
        {
          "output_type": "stream",
          "name": "stdout",
          "text": [
            "Cleaning text columns...\n",
            "  - title cleaned\n",
            "  - company_profile cleaned\n",
            "  - description cleaned\n",
            "  - requirements cleaned\n",
            "  - benefits cleaned\n"
          ]
        }
      ]
    },
    {
      "cell_type": "code",
      "source": [
        "# Combine text features for efficiency\n",
        "df['combined_text'] = df[text_columns].apply(lambda x: ' '.join(x), axis=1)\n",
        "print(\"Text preprocessing complete\")\n",
        "\n",
        "# Handle missing values in categorical columns\n",
        "categorical_columns = ['location', 'department', 'employment_type', 'required_experience',\n",
        "                       'required_education', 'industry', 'function']\n",
        "for col in categorical_columns:\n",
        "    df[col] = df[col].fillna('Unknown')\n",
        "\n",
        "# Binary features\n",
        "binary_columns = ['telecommuting', 'has_company_logo', 'has_questions']\n",
        "\n",
        "# Target encoding for categorical features\n",
        "def target_encode(column, target):\n",
        "    encoding = df.groupby(column)[target].mean()\n",
        "    return df[column].map(encoding).fillna(0)\n",
        "\n",
        "print(\"Encoding categorical features...\")\n",
        "encoded_features = [target_encode(col, 'fraudulent') for col in categorical_columns]\n",
        "encoded_features = np.stack(encoded_features, axis=1)\n",
        "print(f\"Encoded features shape: {encoded_features.shape}\")\n"
      ],
      "metadata": {
        "colab": {
          "base_uri": "https://localhost:8080/"
        },
        "id": "_m-U0_6KjT9A",
        "outputId": "09081d4d-81eb-4605-b144-27313b358661"
      },
      "execution_count": 5,
      "outputs": [
        {
          "output_type": "stream",
          "name": "stdout",
          "text": [
            "Text preprocessing complete\n",
            "Encoding categorical features...\n",
            "Encoded features shape: (17880, 7)\n"
          ]
        }
      ]
    },
    {
      "cell_type": "code",
      "source": [
        "# Extract binary features\n",
        "binary_features = df[binary_columns].values\n",
        "\n",
        "# For large datasets, use TF-IDF instead of full DistilBERT to avoid memory issues\n",
        "print(\"Creating TF-IDF features...\")\n",
        "tfidf = TfidfVectorizer(max_features=768)  # Match DistilBERT dimension for compatibility\n",
        "tfidf_matrix = tfidf.fit_transform(df['combined_text'])\n",
        "text_features = tfidf_matrix.toarray()  # Convert to dense array\n",
        "print(f\"TF-IDF features shape: {text_features.shape}\")\n"
      ],
      "metadata": {
        "colab": {
          "base_uri": "https://localhost:8080/"
        },
        "id": "0LSEot_djZBk",
        "outputId": "11501563-2ef7-4545-c20d-8ea3aae4af5c"
      },
      "execution_count": 6,
      "outputs": [
        {
          "output_type": "stream",
          "name": "stdout",
          "text": [
            "Creating TF-IDF features...\n",
            "TF-IDF features shape: (17880, 768)\n"
          ]
        }
      ]
    },
    {
      "cell_type": "code",
      "source": [
        "# Combine multimodal features\n",
        "node_features = np.concatenate([text_features, encoded_features, binary_features], axis=1)\n",
        "node_features = torch.tensor(node_features, dtype=torch.float).to(device)\n",
        "print(f\"Combined node features shape: {node_features.shape}\")\n"
      ],
      "metadata": {
        "colab": {
          "base_uri": "https://localhost:8080/"
        },
        "id": "rdhwIHbUjd8N",
        "outputId": "aa4d70c4-502e-41ea-a947-4baae570f5d6"
      },
      "execution_count": 7,
      "outputs": [
        {
          "output_type": "stream",
          "name": "stdout",
          "text": [
            "Combined node features shape: torch.Size([17880, 778])\n"
          ]
        }
      ]
    },
    {
      "cell_type": "code",
      "source": [
        "# Create graph edges based on similarity more efficiently\n",
        "print(\"Creating graph edges based on text similarity...\")\n",
        "# Use a more efficient approach for large datasets\n",
        "MAX_NODES = min(5000, len(df))  # Limit for very large datasets\n",
        "if len(df) > MAX_NODES:\n",
        "    print(f\"Dataset too large, using random subset of {MAX_NODES} nodes for graph construction\")\n",
        "    sample_indices = np.random.choice(len(df), MAX_NODES, replace=False)\n",
        "    similarity_subset = cosine_similarity(tfidf_matrix[sample_indices])\n",
        "    threshold = 0.5  # Lower threshold for sparser graph\n",
        "    edge_index = []\n",
        "    for i in range(similarity_subset.shape[0]):\n",
        "        # Connect to top-k most similar nodes instead of using threshold\n",
        "        k = 5  # Connect each node to k most similar nodes\n",
        "        most_similar = np.argsort(similarity_subset[i])[::-1][1:k+1]  # Skip self-connection\n",
        "        for j in most_similar:\n",
        "            edge_index.append([sample_indices[i], sample_indices[j]])\n",
        "            edge_index.append([sample_indices[j], sample_indices[i]])  # Bidirectional\n",
        "else:\n",
        "    # For smaller datasets, use similarity threshold approach\n",
        "    similarity_matrix = cosine_similarity(tfidf_matrix)\n",
        "    threshold = 0.6  # Adjusted threshold\n",
        "    edge_index = []\n",
        "\n",
        "    # Process in batches to avoid memory issues\n",
        "    batch_size = 1000\n",
        "    for i in range(0, similarity_matrix.shape[0], batch_size):\n",
        "        end = min(i + batch_size, similarity_matrix.shape[0])\n",
        "        for j in range(i, similarity_matrix.shape[0]):\n",
        "            # Connect each node to its top 5 most similar nodes\n",
        "            if i != j:  # Avoid self-loops\n",
        "                similar_indices = np.argsort(similarity_matrix[i, :])[::-1][:5]\n",
        "                for idx in similar_indices:\n",
        "                    if idx != i:  # Double-check to avoid self-loops\n",
        "                        edge_index.append([i, idx])\n",
        "                        edge_index.append([idx, i])  # Make it bidirectional\n"
      ],
      "metadata": {
        "colab": {
          "base_uri": "https://localhost:8080/"
        },
        "id": "tcgp1Cpijgz0",
        "outputId": "c9a3e16d-d36d-4023-c68b-e921987ded2a"
      },
      "execution_count": 8,
      "outputs": [
        {
          "output_type": "stream",
          "name": "stdout",
          "text": [
            "Creating graph edges based on text similarity...\n",
            "Dataset too large, using random subset of 5000 nodes for graph construction\n"
          ]
        }
      ]
    },
    {
      "cell_type": "code",
      "source": [
        "# Convert to tensor\n",
        "edge_index = torch.tensor(edge_index, dtype=torch.long).t().contiguous().to(device)\n",
        "print(f\"Graph created with {edge_index.shape[1]} edges\")\n",
        "\n",
        "# Labels\n",
        "labels = torch.tensor(df['fraudulent'].values, dtype=torch.long).to(device)"
      ],
      "metadata": {
        "colab": {
          "base_uri": "https://localhost:8080/"
        },
        "id": "wKIp7cdAjozU",
        "outputId": "a82238d6-2fe2-46dd-b553-47bb69ff07ff"
      },
      "execution_count": 9,
      "outputs": [
        {
          "output_type": "stream",
          "name": "stdout",
          "text": [
            "Graph created with 50000 edges\n"
          ]
        }
      ]
    },
    {
      "cell_type": "code",
      "source": [
        "# Create PyTorch Geometric Data object\n",
        "data = Data(x=node_features, edge_index=edge_index, y=labels)\n",
        "print(f\"PyTorch Geometric Data object created\")\n"
      ],
      "metadata": {
        "colab": {
          "base_uri": "https://localhost:8080/"
        },
        "id": "Q9WB2BUrjt5I",
        "outputId": "d4240af5-495f-474a-a6b9-e70b3ed4ce50"
      },
      "execution_count": 10,
      "outputs": [
        {
          "output_type": "stream",
          "name": "stdout",
          "text": [
            "PyTorch Geometric Data object created\n"
          ]
        }
      ]
    },
    {
      "cell_type": "code",
      "source": [
        "# Define GAT model with additional batch normalization and dropout for stability\n",
        "class GATModel(nn.Module):\n",
        "    def __init__(self, in_channels, hidden_channels, out_channels, heads=2, dropout=0.2):\n",
        "        super(GATModel, self).__init__()\n",
        "        self.dropout = dropout\n",
        "        self.conv1 = GATConv(in_channels, hidden_channels, heads=heads)\n",
        "        self.bn1 = nn.BatchNorm1d(hidden_channels * heads)\n",
        "        self.conv2 = GATConv(hidden_channels * heads, out_channels, heads=1)\n",
        "        self.bn2 = nn.BatchNorm1d(out_channels)\n",
        "        self.fc = nn.Linear(out_channels, 2)  # Binary classification\n",
        "\n",
        "    def forward(self, x, edge_index):\n",
        "        x = F.dropout(x, p=self.dropout, training=self.training)\n",
        "        x = self.conv1(x, edge_index)\n",
        "        x = self.bn1(x)\n",
        "        x = F.elu(x)\n",
        "        x = F.dropout(x, p=self.dropout, training=self.training)\n",
        "        x = self.conv2(x, edge_index)\n",
        "        x = self.bn2(x)\n",
        "        x = F.elu(x)\n",
        "        x = self.fc(x)\n",
        "        return x\n"
      ],
      "metadata": {
        "id": "U4_lZ-v4jwCB"
      },
      "execution_count": 11,
      "outputs": []
    },
    {
      "cell_type": "code",
      "source": [
        "# Focal loss for imbalanced data\n",
        "class FocalLoss(nn.Module):\n",
        "    def __init__(self, gamma=2.0, alpha=0.25):\n",
        "        super(FocalLoss, self).__init__()\n",
        "        self.gamma = gamma\n",
        "        self.alpha = alpha\n",
        "\n",
        "    def forward(self, inputs, targets):\n",
        "        ce_loss = F.cross_entropy(inputs, targets, reduction='none')\n",
        "        pt = torch.exp(-ce_loss)\n",
        "        focal_loss = self.alpha * (1 - pt) ** self.gamma * ce_loss\n",
        "        return focal_loss.mean()\n",
        "\n",
        "# Initialize model, optimizer, and loss\n",
        "in_channels = node_features.shape[1]\n",
        "hidden_channels = 16  # Reduced size for CPU/memory constraints\n",
        "out_channels = 8     # Reduced size for CPU/memory constraints\n",
        "model = GATModel(in_channels=in_channels, hidden_channels=hidden_channels,\n",
        "                out_channels=out_channels).to(device)\n",
        "print(f\"Model initialized with {sum(p.numel() for p in model.parameters())} parameters\")\n",
        "\n",
        "optimizer = torch.optim.Adam(model.parameters(), lr=0.001, weight_decay=5e-4)\n",
        "criterion = FocalLoss()"
      ],
      "metadata": {
        "colab": {
          "base_uri": "https://localhost:8080/"
        },
        "id": "tSPXO6Ltjz4p",
        "outputId": "30caf34b-100f-41fd-a80f-133c85b77648"
      },
      "execution_count": 12,
      "outputs": [
        {
          "output_type": "stream",
          "name": "stdout",
          "text": [
            "Model initialized with 25370 parameters\n"
          ]
        }
      ]
    },
    {
      "cell_type": "code",
      "source": [
        "# Train-test split\n",
        "train_indices, test_indices = train_test_split(\n",
        "    range(len(labels)),\n",
        "    test_size=0.2,\n",
        "    stratify=labels.cpu().numpy(),  # Ensure balanced classes\n",
        "    random_state=42\n",
        ")\n",
        "train_mask = torch.zeros(len(labels), dtype=torch.bool)\n",
        "test_mask = torch.zeros(len(labels), dtype=torch.bool)\n",
        "train_mask[train_indices] = True\n",
        "test_mask[test_indices] = True\n",
        "train_mask = train_mask.to(device)\n",
        "test_mask = test_mask.to(device)\n",
        "\n",
        "data.train_mask = train_mask\n",
        "data.test_mask = test_mask\n",
        "print(f\"Data split: {train_mask.sum().item()} train samples, {test_mask.sum().item()} test samples\")\n"
      ],
      "metadata": {
        "colab": {
          "base_uri": "https://localhost:8080/"
        },
        "id": "YMcE1Nlaj4Cm",
        "outputId": "309713e1-9bd6-4228-8da0-0189ec946823"
      },
      "execution_count": 13,
      "outputs": [
        {
          "output_type": "stream",
          "name": "stdout",
          "text": [
            "Data split: 14304 train samples, 3576 test samples\n"
          ]
        }
      ]
    },
    {
      "cell_type": "code",
      "source": [
        "# Training loop with early stopping\n",
        "def train():\n",
        "    model.train()\n",
        "    optimizer.zero_grad()\n",
        "    out = model(data.x, data.edge_index)\n",
        "    loss = criterion(out[data.train_mask], data.y[data.train_mask])\n",
        "    loss.backward()\n",
        "    optimizer.step()\n",
        "    return loss.item()\n",
        "\n",
        "def test():\n",
        "    model.eval()\n",
        "    with torch.no_grad():\n",
        "        out = model(data.x, data.edge_index)\n",
        "        pred = out.argmax(dim=1)\n",
        "        # Calculate accuracy for both train and test sets\n",
        "        train_acc = (pred[data.train_mask] == data.y[data.train_mask]).float().mean()\n",
        "        test_acc = (pred[data.test_mask] == data.y[data.test_mask]).float().mean()\n",
        "\n",
        "        # Calculate additional metrics for test set\n",
        "        y_true = data.y[data.test_mask].cpu().numpy()\n",
        "        y_pred = pred[data.test_mask].cpu().numpy()\n",
        "\n",
        "    return train_acc.item(), test_acc.item(), y_true, y_pred\n",
        "\n",
        "# Training with early stopping\n",
        "best_test_acc = 0\n",
        "patience = 10\n",
        "counter = 0\n",
        "epochs = 100  # Maximum epochs\n",
        "losses = []\n",
        "train_accs = []\n",
        "test_accs = []\n",
        "\n",
        "print(\"Starting training...\")\n",
        "for epoch in range(epochs):\n",
        "    loss = train()\n",
        "    losses.append(loss)\n",
        "\n",
        "    # Evaluate every 5 epochs to save time\n",
        "    if epoch % 5 == 0 or epoch == epochs - 1:\n",
        "        train_acc, test_acc, y_true, y_pred = test()\n",
        "        train_accs.append(train_acc)\n",
        "        test_accs.append(test_acc)\n",
        "\n",
        "        print(f'Epoch {epoch:03d}, Loss: {loss:.4f}, Train Acc: {train_acc:.4f}, Test Acc: {test_acc:.4f}')\n",
        "\n",
        "        # Check for early stopping\n",
        "        if test_acc > best_test_acc:\n",
        "            best_test_acc = test_acc\n",
        "            counter = 0\n",
        "            # Save best model\n",
        "            torch.save(model.state_dict(), 'best_gat_model.pt')\n",
        "        else:\n",
        "            counter += 1\n",
        "            if counter >= patience:\n",
        "                print(f\"Early stopping triggered after {epoch+1} epochs\")\n",
        "                break\n"
      ],
      "metadata": {
        "colab": {
          "base_uri": "https://localhost:8080/"
        },
        "id": "G8y6Guqxj_Bl",
        "outputId": "23917a57-a2d9-4d2f-e2ae-bafbbe181220"
      },
      "execution_count": 14,
      "outputs": [
        {
          "output_type": "stream",
          "name": "stdout",
          "text": [
            "Starting training...\n",
            "Epoch 000, Loss: 0.0445, Train Acc: 0.9380, Test Acc: 0.9354\n",
            "Epoch 005, Loss: 0.0339, Train Acc: 0.9396, Test Acc: 0.9382\n",
            "Epoch 010, Loss: 0.0293, Train Acc: 0.9488, Test Acc: 0.9497\n",
            "Epoch 015, Loss: 0.0265, Train Acc: 0.9542, Test Acc: 0.9555\n",
            "Epoch 020, Loss: 0.0246, Train Acc: 0.9562, Test Acc: 0.9561\n",
            "Epoch 025, Loss: 0.0229, Train Acc: 0.9581, Test Acc: 0.9586\n",
            "Epoch 030, Loss: 0.0214, Train Acc: 0.9631, Test Acc: 0.9639\n",
            "Epoch 035, Loss: 0.0202, Train Acc: 0.9714, Test Acc: 0.9701\n",
            "Epoch 040, Loss: 0.0190, Train Acc: 0.9751, Test Acc: 0.9746\n",
            "Epoch 045, Loss: 0.0180, Train Acc: 0.9769, Test Acc: 0.9754\n",
            "Epoch 050, Loss: 0.0171, Train Acc: 0.9790, Test Acc: 0.9779\n",
            "Epoch 055, Loss: 0.0162, Train Acc: 0.9806, Test Acc: 0.9796\n",
            "Epoch 060, Loss: 0.0154, Train Acc: 0.9815, Test Acc: 0.9824\n",
            "Epoch 065, Loss: 0.0145, Train Acc: 0.9829, Test Acc: 0.9849\n",
            "Epoch 070, Loss: 0.0138, Train Acc: 0.9838, Test Acc: 0.9855\n",
            "Epoch 075, Loss: 0.0132, Train Acc: 0.9844, Test Acc: 0.9857\n",
            "Epoch 080, Loss: 0.0125, Train Acc: 0.9844, Test Acc: 0.9857\n",
            "Epoch 085, Loss: 0.0119, Train Acc: 0.9848, Test Acc: 0.9857\n",
            "Epoch 090, Loss: 0.0113, Train Acc: 0.9849, Test Acc: 0.9860\n",
            "Epoch 095, Loss: 0.0109, Train Acc: 0.9852, Test Acc: 0.9874\n",
            "Epoch 099, Loss: 0.0104, Train Acc: 0.9852, Test Acc: 0.9866\n"
          ]
        }
      ]
    },
    {
      "cell_type": "code",
      "source": [
        "# Load best model for final evaluation\n",
        "model.load_state_dict(torch.load('best_gat_model.pt'))\n",
        "train_acc, test_acc, y_true, y_pred = test()\n",
        "print(f\"\\nFinal results - Train Acc: {train_acc:.4f}, Test Acc: {test_acc:.4f}\")\n"
      ],
      "metadata": {
        "colab": {
          "base_uri": "https://localhost:8080/"
        },
        "id": "HkIaGMKGklyX",
        "outputId": "4e63655e-0315-4428-c359-153aacd38b49"
      },
      "execution_count": 15,
      "outputs": [
        {
          "output_type": "stream",
          "name": "stdout",
          "text": [
            "\n",
            "Final results - Train Acc: 0.9852, Test Acc: 0.9874\n"
          ]
        }
      ]
    },
    {
      "cell_type": "code",
      "source": [
        "# Print detailed classification report\n",
        "print(\"\\nClassification Report:\")\n",
        "print(classification_report(y_true, y_pred))\n",
        "\n",
        "# Plot confusion matrix\n",
        "cm = confusion_matrix(y_true, y_pred)\n",
        "plt.figure(figsize=(8, 6))\n",
        "sns.heatmap(cm, annot=True, fmt='d', cmap='Blues',\n",
        "            xticklabels=['Legitimate', 'Fraudulent'],\n",
        "            yticklabels=['Legitimate', 'Fraudulent'])\n",
        "plt.xlabel('Predicted')\n",
        "plt.ylabel('True')\n",
        "plt.title('Confusion Matrix')\n",
        "plt.savefig('confusion_matrix.png')\n",
        "plt.show()\n",
        "\n",
        "# Plot training curves\n",
        "plt.figure(figsize=(12, 4))\n",
        "plt.subplot(1, 2, 1)\n",
        "plt.plot(losses)\n",
        "plt.title('Training Loss')\n",
        "plt.xlabel('Epoch')\n",
        "plt.ylabel('Loss')\n",
        "\n",
        "plt.subplot(1, 2, 2)\n",
        "epochs_evaluated = range(0, epochs, 5)\n",
        "if len(train_accs) > len(epochs_evaluated):\n",
        "    epochs_evaluated = list(epochs_evaluated) + [epochs-1]\n",
        "plt.plot(epochs_evaluated, train_accs, label='Train')\n",
        "plt.plot(epochs_evaluated, test_accs, label='Test')\n",
        "plt.title('Model Accuracy')\n",
        "plt.xlabel('Epoch')\n",
        "plt.ylabel('Accuracy')\n",
        "plt.legend()\n",
        "plt.tight_layout()\n",
        "plt.savefig('training_curves.png')\n",
        "plt.show()\n"
      ],
      "metadata": {
        "colab": {
          "base_uri": "https://localhost:8080/",
          "height": 1000
        },
        "id": "yzHO_wupkrVO",
        "outputId": "beb43041-52e7-48bf-85a7-ea25a517062a"
      },
      "execution_count": 16,
      "outputs": [
        {
          "output_type": "stream",
          "name": "stdout",
          "text": [
            "\n",
            "Classification Report:\n",
            "              precision    recall  f1-score   support\n",
            "\n",
            "           0       0.99      0.99      0.99      3403\n",
            "           1       0.89      0.84      0.87       173\n",
            "\n",
            "    accuracy                           0.99      3576\n",
            "   macro avg       0.94      0.92      0.93      3576\n",
            "weighted avg       0.99      0.99      0.99      3576\n",
            "\n"
          ]
        },
        {
          "output_type": "display_data",
          "data": {
            "text/plain": [
              "<Figure size 800x600 with 2 Axes>"
            ],
            "image/png": "[encoded data removed]"
          },
          "metadata": {}
        },
        {
          "output_type": "display_data",
          "data": {
            "text/plain": [
              "<Figure size 1200x400 with 2 Axes>"
            ],
            "image/png": "[encoded data removed]"
          },
          "metadata": {}
        }
      ]
    },
    {
      "cell_type": "code",
      "source": [
        "print(\"\\nGenerating feature importance analysis...\")\n",
        "model.eval()\n",
        "\n",
        "# Extract feature names for better visualization\n",
        "feature_names = ([f'tfidf_{i}' for i in range(text_features.shape[1])] +\n",
        "                categorical_columns +\n",
        "                binary_columns)\n",
        "\n",
        "# Create a simplified feature importance visualization\n",
        "with torch.no_grad():\n",
        "    # Get model weights from the final layer\n",
        "    weights = model.fc.weight.cpu().numpy()\n",
        "\n",
        "    # Calculate absolute importance\n",
        "    importance = np.abs(weights).mean(axis=0)\n",
        "\n",
        "    # Get indices of the top 10 most important features\n",
        "    top_indices = importance.argsort()[-10:][::-1]\n",
        "\n",
        "    plt.figure(figsize=(10, 6))\n",
        "    plt.barh(range(len(top_indices)), importance[top_indices])\n",
        "\n",
        "    # Map indices to feature categories\n",
        "    feature_categories = []\n",
        "    for idx in top_indices:\n",
        "        if idx < text_features.shape[1]:\n",
        "            feature_categories.append(f'Text (TF-IDF)')\n",
        "        elif idx < text_features.shape[1] + len(categorical_columns):\n",
        "            cat_idx = idx - text_features.shape[1]\n",
        "            feature_categories.append(f'Cat: {categorical_columns[cat_idx]}')\n",
        "        else:\n",
        "            bin_idx = idx - text_features.shape[1] - len(categorical_columns)\n",
        "            feature_categories.append(f'Bin: {binary_columns[bin_idx]}')\n",
        "\n",
        "    plt.yticks(range(len(top_indices)), feature_categories)\n",
        "    plt.xlabel('Feature Importance')\n",
        "    plt.title('Top 10 Most Important Feature Categories')\n",
        "    plt.tight_layout()\n",
        "    plt.savefig('feature_importance.png')\n",
        "    plt.show()\n",
        "\n",
        "print(\"Analysis complete! The model has been trained and evaluated successfully.\")"
      ],
      "metadata": {
        "colab": {
          "base_uri": "https://localhost:8080/",
          "height": 662
        },
        "id": "gzYFpm7clfUo",
        "outputId": "cb0014bc-29c8-4547-c6fa-5cf0ccfb2d99"
      },
      "execution_count": 17,
      "outputs": [
        {
          "output_type": "stream",
          "name": "stdout",
          "text": [
            "\n",
            "Generating feature importance analysis...\n"
          ]
        },
        {
          "output_type": "display_data",
          "data": {
            "text/plain": [
              "<Figure size 1000x600 with 1 Axes>"
            ],
            "image/png": "[encoded data removed]"
          },
          "metadata": {}
        },
        {
          "output_type": "stream",
          "name": "stdout",
          "text": [
            "Analysis complete! The model has been trained and evaluated successfully.\n"
          ]
        }
      ]
    }
  ]
}