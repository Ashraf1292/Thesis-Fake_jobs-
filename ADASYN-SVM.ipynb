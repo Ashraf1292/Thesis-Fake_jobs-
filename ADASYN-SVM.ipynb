{
  "nbformat": 4,
  "nbformat_minor": 0,
  "metadata": {
    "colab": {
      "provenance": [],
      "authorship_tag": "ABX9TyN97nzfxNX+D2/8aXg5JDkq",
      "include_colab_link": true
    },
    "kernelspec": {
      "name": "python3",
      "display_name": "Python 3"
    },
    "language_info": {
      "name": "python"
    }
  },
  "cells": [
    {
      "cell_type": "markdown",
      "metadata": {
        "id": "view-in-github",
        "colab_type": "text"
      },
      "source": [
        "<a href=\"https://colab.research.google.com/github/Ashraf1292/Thesis-Fake_jobs-/blob/main/ADASYN-SVM.ipynb\" target=\"_parent\"><img src=\"https://colab.research.google.com/assets/colab-badge.svg\" alt=\"Open In Colab\"/></a>"
      ]
    },
    {
      "cell_type": "code",
      "execution_count": 5,
      "metadata": {
        "colab": {
          "base_uri": "https://localhost:8080/"
        },
        "id": "h3zUuDrTOAFK",
        "outputId": "bf506c9a-0002-4800-f167-057abc59c00c"
      },
      "outputs": [
        {
          "output_type": "stream",
          "name": "stdout",
          "text": [
            "job_id                     0\n",
            "title                      0\n",
            "location                 346\n",
            "department             11547\n",
            "salary_range           15012\n",
            "company_profile         3308\n",
            "description                1\n",
            "requirements            2696\n",
            "benefits                7212\n",
            "telecommuting              0\n",
            "has_company_logo           0\n",
            "has_questions              0\n",
            "employment_type         3471\n",
            "required_experience     7050\n",
            "required_education      8105\n",
            "industry                4903\n",
            "function                6455\n",
            "fraudulent                 0\n",
            "dtype: int64\n"
          ]
        }
      ],
      "source": [
        "import pandas as pd\n",
        "df = pd.read_csv(\"fake_job_postings.csv\")\n",
        "print(df.isnull().sum())\n",
        "df = df.dropna()"
      ]
    },
    {
      "cell_type": "code",
      "source": [
        "from sklearn.preprocessing import LabelEncoder\n",
        "from sklearn.model_selection import train_test_split\n",
        "\n",
        "# Encode categorical labels (assuming 'fraudulent' is the target column)\n",
        "label_encoder = LabelEncoder()\n",
        "df['fraudulent'] = label_encoder.fit_transform(df['fraudulent'])\n",
        "\n",
        "# Select features and target\n",
        "X = df.drop(columns=['fraudulent'])\n",
        "y = df['fraudulent']\n",
        "\n",
        "# Convert categorical features to numerical (if needed)\n",
        "X = pd.get_dummies(X)\n",
        "\n",
        "# Split data\n",
        "X_train, X_test, y_train, y_test = train_test_split(X, y, test_size=0.2, random_state=42)\n"
      ],
      "metadata": {
        "id": "bxR7v9-ZPTnE"
      },
      "execution_count": 6,
      "outputs": []
    },
    {
      "cell_type": "code",
      "source": [
        "from imblearn.over_sampling import ADASYN\n",
        "\n",
        "# Apply ADASYN\n",
        "adasyn = ADASYN(random_state=42)\n",
        "X_train_resampled, y_train_resampled = adasyn.fit_resample(X_train, y_train)\n"
      ],
      "metadata": {
        "id": "bTgbA8IhPWWB"
      },
      "execution_count": 7,
      "outputs": []
    },
    {
      "cell_type": "code",
      "source": [
        "from sklearn.svm import SVC\n",
        "from sklearn.metrics import accuracy_score, precision_score, recall_score, f1_score\n",
        "\n",
        "# Train Linear SVC\n",
        "svc_model = SVC(kernel='linear', probability=True, random_state=42)\n",
        "svc_model.fit(X_train_resampled, y_train_resampled)\n",
        "\n",
        "# Predictions\n",
        "y_pred = svc_model.predict(X_test)\n",
        "\n",
        "# Evaluate\n",
        "print(\"Accuracy:\", accuracy_score(y_test, y_pred))\n",
        "print(\"Precision:\", precision_score(y_test, y_pred))\n",
        "print(\"Recall:\", recall_score(y_test, y_pred))\n",
        "print(\"F1 Score:\", f1_score(y_test, y_pred))\n"
      ],
      "metadata": {
        "colab": {
          "base_uri": "https://localhost:8080/"
        },
        "id": "IyWsqXgzPdHL",
        "outputId": "b9c71b8e-06f6-46b3-b978-31d0b9b2a387"
      },
      "execution_count": 8,
      "outputs": [
        {
          "output_type": "stream",
          "name": "stdout",
          "text": [
            "Accuracy: 0.9225806451612903\n",
            "Precision: 0.5217391304347826\n",
            "Recall: 0.9230769230769231\n",
            "F1 Score: 0.6666666666666666\n"
          ]
        }
      ]
    }
  ]
}