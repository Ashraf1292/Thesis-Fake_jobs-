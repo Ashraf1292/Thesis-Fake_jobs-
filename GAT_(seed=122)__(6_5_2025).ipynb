{
  "cells": [
    {
      "cell_type": "markdown",
      "metadata": {
        "id": "view-in-github",
        "colab_type": "text"
      },
      "source": [
        "<a href=\"https://colab.research.google.com/github/Ashraf1292/Thesis-Fake_jobs-/blob/main/GAT_(seed%3D122)__(6_5_2025).ipynb\" target=\"_parent\"><img src=\"https://colab.research.google.com/assets/colab-badge.svg\" alt=\"Open In Colab\"/></a>"
      ]
    },
    {
      "cell_type": "code",
      "execution_count": 1,
      "metadata": {
        "colab": {
          "base_uri": "https://localhost:8080/"
        },
        "id": "-XSvKaRIiYIp",
        "outputId": "6f5bf6d9-45bb-4584-970d-025f0647ea6d"
      },
      "outputs": [
        {
          "output_type": "stream",
          "name": "stdout",
          "text": [
            "Requirement already satisfied: torch_geometric in /usr/local/lib/python3.11/dist-packages (2.6.1)\n",
            "Requirement already satisfied: transformers in /usr/local/lib/python3.11/dist-packages (4.52.3)\n",
            "Requirement already satisfied: shap in /usr/local/lib/python3.11/dist-packages (0.47.2)\n",
            "Requirement already satisfied: aiohttp in /usr/local/lib/python3.11/dist-packages (from torch_geometric) (3.11.15)\n",
            "Requirement already satisfied: fsspec in /usr/local/lib/python3.11/dist-packages (from torch_geometric) (2025.3.2)\n",
            "Requirement already satisfied: jinja2 in /usr/local/lib/python3.11/dist-packages (from torch_geometric) (3.1.6)\n",
            "Requirement already satisfied: numpy in /usr/local/lib/python3.11/dist-packages (from torch_geometric) (2.0.2)\n",
            "Requirement already satisfied: psutil>=5.8.0 in /usr/local/lib/python3.11/dist-packages (from torch_geometric) (5.9.5)\n",
            "Requirement already satisfied: pyparsing in /usr/local/lib/python3.11/dist-packages (from torch_geometric) (3.2.3)\n",
            "Requirement already satisfied: requests in /usr/local/lib/python3.11/dist-packages (from torch_geometric) (2.32.3)\n",
            "Requirement already satisfied: tqdm in /usr/local/lib/python3.11/dist-packages (from torch_geometric) (4.67.1)\n",
            "Requirement already satisfied: filelock in /usr/local/lib/python3.11/dist-packages (from transformers) (3.18.0)\n",
            "Requirement already satisfied: huggingface-hub<1.0,>=0.30.0 in /usr/local/lib/python3.11/dist-packages (from transformers) (0.32.2)\n",
            "Requirement already satisfied: packaging>=20.0 in /usr/local/lib/python3.11/dist-packages (from transformers) (24.2)\n",
            "Requirement already satisfied: pyyaml>=5.1 in /usr/local/lib/python3.11/dist-packages (from transformers) (6.0.2)\n",
            "Requirement already satisfied: regex!=2019.12.17 in /usr/local/lib/python3.11/dist-packages (from transformers) (2024.11.6)\n",
            "Requirement already satisfied: tokenizers<0.22,>=0.21 in /usr/local/lib/python3.11/dist-packages (from transformers) (0.21.1)\n",
            "Requirement already satisfied: safetensors>=0.4.3 in /usr/local/lib/python3.11/dist-packages (from transformers) (0.5.3)\n",
            "Requirement already satisfied: scipy in /usr/local/lib/python3.11/dist-packages (from shap) (1.15.3)\n",
            "Requirement already satisfied: scikit-learn in /usr/local/lib/python3.11/dist-packages (from shap) (1.6.1)\n",
            "Requirement already satisfied: pandas in /usr/local/lib/python3.11/dist-packages (from shap) (2.2.2)\n",
            "Requirement already satisfied: slicer==0.0.8 in /usr/local/lib/python3.11/dist-packages (from shap) (0.0.8)\n",
            "Requirement already satisfied: numba>=0.54 in /usr/local/lib/python3.11/dist-packages (from shap) (0.60.0)\n",
            "Requirement already satisfied: cloudpickle in /usr/local/lib/python3.11/dist-packages (from shap) (3.1.1)\n",
            "Requirement already satisfied: typing-extensions in /usr/local/lib/python3.11/dist-packages (from shap) (4.13.2)\n",
            "Requirement already satisfied: hf-xet<2.0.0,>=1.1.2 in /usr/local/lib/python3.11/dist-packages (from huggingface-hub<1.0,>=0.30.0->transformers) (1.1.2)\n",
            "Requirement already satisfied: llvmlite<0.44,>=0.43.0dev0 in /usr/local/lib/python3.11/dist-packages (from numba>=0.54->shap) (0.43.0)\n",
            "Requirement already satisfied: aiohappyeyeballs>=2.3.0 in /usr/local/lib/python3.11/dist-packages (from aiohttp->torch_geometric) (2.6.1)\n",
            "Requirement already satisfied: aiosignal>=1.1.2 in /usr/local/lib/python3.11/dist-packages (from aiohttp->torch_geometric) (1.3.2)\n",
            "Requirement already satisfied: attrs>=17.3.0 in /usr/local/lib/python3.11/dist-packages (from aiohttp->torch_geometric) (25.3.0)\n",
            "Requirement already satisfied: frozenlist>=1.1.1 in /usr/local/lib/python3.11/dist-packages (from aiohttp->torch_geometric) (1.6.0)\n",
            "Requirement already satisfied: multidict<7.0,>=4.5 in /usr/local/lib/python3.11/dist-packages (from aiohttp->torch_geometric) (6.4.4)\n",
            "Requirement already satisfied: propcache>=0.2.0 in /usr/local/lib/python3.11/dist-packages (from aiohttp->torch_geometric) (0.3.1)\n",
            "Requirement already satisfied: yarl<2.0,>=1.17.0 in /usr/local/lib/python3.11/dist-packages (from aiohttp->torch_geometric) (1.20.0)\n",
            "Requirement already satisfied: MarkupSafe>=2.0 in /usr/local/lib/python3.11/dist-packages (from jinja2->torch_geometric) (3.0.2)\n",
            "Requirement already satisfied: python-dateutil>=2.8.2 in /usr/local/lib/python3.11/dist-packages (from pandas->shap) (2.9.0.post0)\n",
            "Requirement already satisfied: pytz>=2020.1 in /usr/local/lib/python3.11/dist-packages (from pandas->shap) (2025.2)\n",
            "Requirement already satisfied: tzdata>=2022.7 in /usr/local/lib/python3.11/dist-packages (from pandas->shap) (2025.2)\n",
            "Requirement already satisfied: charset-normalizer<4,>=2 in /usr/local/lib/python3.11/dist-packages (from requests->torch_geometric) (3.4.2)\n",
            "Requirement already satisfied: idna<4,>=2.5 in /usr/local/lib/python3.11/dist-packages (from requests->torch_geometric) (3.10)\n",
            "Requirement already satisfied: urllib3<3,>=1.21.1 in /usr/local/lib/python3.11/dist-packages (from requests->torch_geometric) (2.4.0)\n",
            "Requirement already satisfied: certifi>=2017.4.17 in /usr/local/lib/python3.11/dist-packages (from requests->torch_geometric) (2025.4.26)\n",
            "Requirement already satisfied: joblib>=1.2.0 in /usr/local/lib/python3.11/dist-packages (from scikit-learn->shap) (1.5.1)\n",
            "Requirement already satisfied: threadpoolctl>=3.1.0 in /usr/local/lib/python3.11/dist-packages (from scikit-learn->shap) (3.6.0)\n",
            "Requirement already satisfied: six>=1.5 in /usr/local/lib/python3.11/dist-packages (from python-dateutil>=2.8.2->pandas->shap) (1.17.0)\n",
            "Looking in links: https://data.pyg.org/whl/torch-2.0.0+cpu.html\n",
            "Requirement already satisfied: torch-scatter in /usr/local/lib/python3.11/dist-packages (2.1.2+pt20cpu)\n",
            "Requirement already satisfied: torch-sparse in /usr/local/lib/python3.11/dist-packages (0.6.18+pt20cpu)\n",
            "Requirement already satisfied: torch-cluster in /usr/local/lib/python3.11/dist-packages (1.6.3+pt20cpu)\n",
            "Requirement already satisfied: torch-spline-conv in /usr/local/lib/python3.11/dist-packages (1.2.2+pt20cpu)\n",
            "Requirement already satisfied: scipy in /usr/local/lib/python3.11/dist-packages (from torch-sparse) (1.15.3)\n",
            "Requirement already satisfied: numpy<2.5,>=1.23.5 in /usr/local/lib/python3.11/dist-packages (from scipy->torch-sparse) (2.0.2)\n"
          ]
        }
      ],
      "source": [
        "import random\n",
        "import numpy as np\n",
        "import torch\n",
        "import pandas as pd\n",
        "random.seed(122)\n",
        "np.random.seed(122)\n",
        "torch.manual_seed(122)\n",
        "torch.cuda.manual_seed_all(122)\n",
        "torch.backends.cudnn.deterministic = True\n",
        "torch.backends.cudnn.benchmark = False\n",
        "\n",
        "import torch.nn as nn\n",
        "import torch.nn.functional as F\n",
        "from sklearn.preprocessing import LabelEncoder\n",
        "from sklearn.metrics.pairwise import cosine_similarity\n",
        "from sklearn.feature_extraction.text import TfidfVectorizer\n",
        "from sklearn.model_selection import train_test_split\n",
        "from sklearn.metrics import classification_report, confusion_matrix\n",
        "import nltk\n",
        "from nltk.corpus import stopwords\n",
        "import string\n",
        "import re\n",
        "import matplotlib.pyplot as plt\n",
        "import seaborn as sns\n",
        "import warnings\n",
        "warnings.filterwarnings('ignore')  # Suppress warnings\n",
        "\n",
        "# Install required dependencies\n",
        "!pip install torch_geometric transformers shap\n",
        "!pip install torch-scatter torch-sparse torch-cluster torch-spline-conv -f https://data.pyg.org/whl/torch-2.0.0+cpu.html\n",
        "\n",
        "# Import dependencies after installation\n",
        "from torch_geometric.nn import GATConv\n",
        "from torch_geometric.data import Data\n",
        "from transformers import DistilBertTokenizer, DistilBertModel\n",
        "import shap\n",
        "from google.colab import drive"
      ]
    },
    {
      "cell_type": "code",
      "execution_count": 2,
      "metadata": {
        "colab": {
          "base_uri": "https://localhost:8080/"
        },
        "id": "LsflMIdLjH_B",
        "outputId": "283f8ab6-e9f8-43b4-c88d-c0f3648af40b"
      },
      "outputs": [
        {
          "output_type": "stream",
          "name": "stdout",
          "text": [
            "Using device: cuda\n",
            "Dataset loaded successfully with 17880 rows and 18 columns\n"
          ]
        }
      ],
      "source": [
        "# Download NLTK stopwords\n",
        "nltk.download('stopwords', quiet=True)\n",
        "stop_words = set(stopwords.words('english'))\n",
        "\n",
        "# Check if CUDA is available\n",
        "device = torch.device('cuda' if torch.cuda.is_available() else 'cpu')\n",
        "print(f\"Using device: {device}\")\n",
        "\n",
        "# Load EMSCAD dataset\n",
        "try:\n",
        "    data_path = 'fake_job_postings.csv'\n",
        "    df = pd.read_csv(data_path)\n",
        "    print(f\"Dataset loaded successfully with {df.shape[0]} rows and {df.shape[1]} columns\")\n",
        "except FileNotFoundError:\n",
        "    print(\"File not found. Please verify the path to your dataset.\")\n",
        "    # Try to find the file using a direct upload approach\n",
        "    from google.colab import files\n",
        "    print(\"Please upload your fake_job_postings.csv file\")\n",
        "    uploaded = files.upload()\n",
        "    df = pd.read_csv(list(uploaded.keys())[0])\n",
        "    print(f\"Dataset loaded from upload with {df.shape[0]} rows and {df.shape[1]} columns\")\n"
      ]
    },
    {
      "cell_type": "code",
      "execution_count": 3,
      "metadata": {
        "colab": {
          "base_uri": "https://localhost:8080/"
        },
        "id": "_nVDiD_DjK3z",
        "outputId": "e2550dbd-4189-442b-be57-8ccbcbbcef00"
      },
      "outputs": [
        {
          "output_type": "stream",
          "name": "stdout",
          "text": [
            "Fraudulent postings: 866 (4.84%)\n"
          ]
        }
      ],
      "source": [
        "# Display basic dataset info\n",
        "print(f\"Fraudulent postings: {df['fraudulent'].sum()} ({df['fraudulent'].mean()*100:.2f}%)\")\n"
      ]
    },
    {
      "cell_type": "code",
      "execution_count": 4,
      "metadata": {
        "colab": {
          "base_uri": "https://localhost:8080/"
        },
        "id": "_x4lTIBrjN4u",
        "outputId": "593caa7d-a6f0-4d62-8573-aa18bd85167a"
      },
      "outputs": [
        {
          "output_type": "stream",
          "name": "stdout",
          "text": [
            "Cleaning text columns...\n",
            "  - title cleaned\n",
            "  - company_profile cleaned\n",
            "  - description cleaned\n",
            "  - requirements cleaned\n",
            "  - benefits cleaned\n"
          ]
        }
      ],
      "source": [
        "# Preprocess text data\n",
        "def clean_text(text):\n",
        "    if pd.isna(text):\n",
        "        return \"\"\n",
        "    text = str(text).lower()\n",
        "    text = re.sub(r'http\\S+', '', text)  # Remove URLs\n",
        "    text = re.sub(r'<.*?>', '', text)    # Remove HTML tags\n",
        "    text = text.translate(str.maketrans('', '', string.punctuation))\n",
        "    text = ' '.join([word for word in text.split() if word not in stop_words])\n",
        "    return text\n",
        "\n",
        "# Apply text cleaning with progress tracking\n",
        "print(\"Cleaning text columns...\")\n",
        "text_columns = ['title', 'company_profile', 'description', 'requirements', 'benefits']\n",
        "for col in text_columns:\n",
        "    df[col] = df[col].fillna(\"\").apply(clean_text)\n",
        "    print(f\"  - {col} cleaned\")"
      ]
    },
    {
      "cell_type": "code",
      "execution_count": 5,
      "metadata": {
        "colab": {
          "base_uri": "https://localhost:8080/"
        },
        "id": "_m-U0_6KjT9A",
        "outputId": "0c6d7e7a-985a-4ece-a2e2-f6623e5ea130"
      },
      "outputs": [
        {
          "output_type": "stream",
          "name": "stdout",
          "text": [
            "Text preprocessing complete\n",
            "Encoding categorical features...\n",
            "Encoded features shape: (17880, 7)\n"
          ]
        }
      ],
      "source": [
        "# Combine text features for efficiency\n",
        "df['combined_text'] = df[text_columns].apply(lambda x: ' '.join(x), axis=1)\n",
        "print(\"Text preprocessing complete\")\n",
        "\n",
        "# Handle missing values in categorical columns\n",
        "categorical_columns = ['location', 'department', 'employment_type', 'required_experience',\n",
        "                       'required_education', 'industry', 'function']\n",
        "for col in categorical_columns:\n",
        "    df[col] = df[col].fillna('Unknown')\n",
        "\n",
        "# Binary features\n",
        "binary_columns = ['telecommuting', 'has_company_logo', 'has_questions']\n",
        "\n",
        "# Target encoding for categorical features\n",
        "def target_encode(column, target):\n",
        "    encoding = df.groupby(column)[target].mean()\n",
        "    return df[column].map(encoding).fillna(0)\n",
        "\n",
        "print(\"Encoding categorical features...\")\n",
        "encoded_features = [target_encode(col, 'fraudulent') for col in categorical_columns]\n",
        "encoded_features = np.stack(encoded_features, axis=1)\n",
        "print(f\"Encoded features shape: {encoded_features.shape}\")\n"
      ]
    },
    {
      "cell_type": "code",
      "execution_count": 6,
      "metadata": {
        "colab": {
          "base_uri": "https://localhost:8080/"
        },
        "id": "0LSEot_djZBk",
        "outputId": "c864d597-31a5-429c-c980-5bd6018c7485"
      },
      "outputs": [
        {
          "output_type": "stream",
          "name": "stdout",
          "text": [
            "Creating TF-IDF features...\n",
            "Adding engineered features...\n",
            "TF-IDF features shape: (17880, 768)\n"
          ]
        }
      ],
      "source": [
        "# Extract binary features\n",
        "binary_features = df[binary_columns].values\n",
        "\n",
        "# For large datasets, use TF-IDF instead of full DistilBERT to avoid memory issues\n",
        "print(\"Creating TF-IDF features...\")\n",
        "tfidf = TfidfVectorizer(max_features=768)  # Match DistilBERT dimension for compatibility\n",
        "tfidf_matrix = tfidf.fit_transform(df['combined_text'])\n",
        "# Convert TF-IDF to dense matrix\n",
        "text_features = tfidf_matrix.toarray()\n",
        "\n",
        "# === FEATURE ENGINEERING STARTS HERE ===\n",
        "print(\"Adding engineered features...\")\n",
        "\n",
        "# 1. Keyword flag for fraud-related terms\n",
        "fraud_keywords = ['urgent', 'quick money', 'no experience', 'limited time', 'apply now', 'work from home']\n",
        "df['has_fraud_keyword'] = df['combined_text'].apply(\n",
        "    lambda x: int(any(word in x.lower() for word in fraud_keywords))\n",
        ")\n",
        "\n",
        "# 2. Text length and word count\n",
        "df['text_length'] = df['combined_text'].apply(len)\n",
        "df['word_count'] = df['combined_text'].apply(lambda x: len(x.split()))\n",
        "\n",
        "# 3. TF-IDF cluster membership\n",
        "from sklearn.cluster import KMeans\n",
        "kmeans = KMeans(n_clusters=10, random_state=42)\n",
        "df['tfidf_cluster'] = kmeans.fit_predict(tfidf_matrix)\n",
        "\n",
        "# 4. Rare category indicators\n",
        "for col in ['industry', 'function', 'required_experience']:\n",
        "    freq = df[col].value_counts()\n",
        "    df[f'{col}_is_rare'] = df[col].apply(lambda x: int(freq[x] < 50))\n",
        "\n",
        "# Select final engineered features\n",
        "engineered = df[['has_fraud_keyword', 'text_length', 'word_count', 'tfidf_cluster'] +\n",
        "                [col + '_is_rare' for col in ['industry', 'function', 'required_experience']]]\n",
        "\n",
        "# Normalize numeric features\n",
        "from sklearn.preprocessing import StandardScaler\n",
        "engineered = StandardScaler().fit_transform(engineered)\n",
        "\n",
        "# === FEATURE ENGINEERING ENDS HERE ===\n",
        "\n",
        "print(f\"TF-IDF features shape: {text_features.shape}\")\n"
      ]
    },
    {
      "cell_type": "code",
      "execution_count": 7,
      "metadata": {
        "colab": {
          "base_uri": "https://localhost:8080/"
        },
        "id": "rdhwIHbUjd8N",
        "outputId": "6767bbe5-c3b8-4bd0-cd25-ad4c82a6440c"
      },
      "outputs": [
        {
          "output_type": "stream",
          "name": "stdout",
          "text": [
            "Combined node features shape: torch.Size([17880, 778])\n"
          ]
        }
      ],
      "source": [
        "# Combine multimodal features\n",
        "node_features = np.concatenate([text_features, encoded_features, binary_features], axis=1)\n",
        "node_features = torch.tensor(node_features, dtype=torch.float).to(device)\n",
        "print(f\"Combined node features shape: {node_features.shape}\")\n"
      ]
    },
    {
      "cell_type": "code",
      "execution_count": 8,
      "metadata": {
        "colab": {
          "base_uri": "https://localhost:8080/"
        },
        "id": "tcgp1Cpijgz0",
        "outputId": "78853f61-a728-49ce-8b1d-71b3bb998a43"
      },
      "outputs": [
        {
          "output_type": "stream",
          "name": "stdout",
          "text": [
            "Creating graph edges based on text similarity...\n",
            "Dataset too large, using random subset of 5000 nodes for graph construction\n"
          ]
        }
      ],
      "source": [
        "# Create graph edges based on similarity more efficiently\n",
        "print(\"Creating graph edges based on text similarity...\")\n",
        "# Use a more efficient approach for large datasets\n",
        "MAX_NODES = min(5000, len(df))  # Limit for very large datasets\n",
        "if len(df) > MAX_NODES:\n",
        "    print(f\"Dataset too large, using random subset of {MAX_NODES} nodes for graph construction\")\n",
        "    sample_indices = np.random.choice(len(df), MAX_NODES, replace=False)\n",
        "    similarity_subset = cosine_similarity(tfidf_matrix[sample_indices])\n",
        "    threshold = 0.5  # Lower threshold for sparser graph\n",
        "    edge_index = []\n",
        "    for i in range(similarity_subset.shape[0]):\n",
        "        # Connect to top-k most similar nodes instead of using threshold\n",
        "        k = 5  # Connect each node to k most similar nodes\n",
        "        most_similar = np.argsort(similarity_subset[i])[::-1][1:k+1]  # Skip self-connection\n",
        "        for j in most_similar:\n",
        "            edge_index.append([sample_indices[i], sample_indices[j]])\n",
        "            edge_index.append([sample_indices[j], sample_indices[i]])  # Bidirectional\n",
        "else:\n",
        "    # For smaller datasets, use similarity threshold approach\n",
        "    similarity_matrix = cosine_similarity(tfidf_matrix)\n",
        "    threshold = 0.6  # Adjusted threshold\n",
        "    edge_index = []\n",
        "\n",
        "    # Process in batches to avoid memory issues\n",
        "    batch_size = 1000\n",
        "    for i in range(0, similarity_matrix.shape[0], batch_size):\n",
        "        end = min(i + batch_size, similarity_matrix.shape[0])\n",
        "        for j in range(i, similarity_matrix.shape[0]):\n",
        "            # Connect each node to its top 5 most similar nodes\n",
        "            if i != j:  # Avoid self-loops\n",
        "                similar_indices = np.argsort(similarity_matrix[i, :])[::-1][:5]\n",
        "                for idx in similar_indices:\n",
        "                    if idx != i:  # Double-check to avoid self-loops\n",
        "                        edge_index.append([i, idx])\n",
        "                        edge_index.append([idx, i])  # Make it bidirectional\n"
      ]
    },
    {
      "cell_type": "code",
      "execution_count": 9,
      "metadata": {
        "colab": {
          "base_uri": "https://localhost:8080/"
        },
        "id": "wKIp7cdAjozU",
        "outputId": "ae6b69f3-7f23-48f3-8466-50752a7997d1"
      },
      "outputs": [
        {
          "output_type": "stream",
          "name": "stdout",
          "text": [
            "Graph created with 50000 edges\n"
          ]
        }
      ],
      "source": [
        "# Convert to tensor\n",
        "edge_index = torch.tensor(edge_index, dtype=torch.long).t().contiguous().to(device)\n",
        "print(f\"Graph created with {edge_index.shape[1]} edges\")\n",
        "\n",
        "# Labels\n",
        "labels = torch.tensor(df['fraudulent'].values, dtype=torch.long).to(device)"
      ]
    },
    {
      "cell_type": "code",
      "execution_count": 10,
      "metadata": {
        "colab": {
          "base_uri": "https://localhost:8080/"
        },
        "id": "Q9WB2BUrjt5I",
        "outputId": "17a85e44-4446-49e6-a735-bd96f8434a76"
      },
      "outputs": [
        {
          "output_type": "stream",
          "name": "stdout",
          "text": [
            "PyTorch Geometric Data object created\n"
          ]
        }
      ],
      "source": [
        "# Create PyTorch Geometric Data object\n",
        "data = Data(x=node_features, edge_index=edge_index, y=labels)\n",
        "print(f\"PyTorch Geometric Data object created\")\n"
      ]
    },
    {
      "cell_type": "code",
      "execution_count": 11,
      "metadata": {
        "id": "U4_lZ-v4jwCB"
      },
      "outputs": [],
      "source": [
        "# Define GAT model with additional batch normalization and dropout for stability\n",
        "class GATModel(nn.Module):\n",
        "    def __init__(self, in_channels, hidden_channels, out_channels, heads=2, dropout=0.2):\n",
        "        super(GATModel, self).__init__()\n",
        "        self.dropout = dropout\n",
        "        self.conv1 = GATConv(in_channels, hidden_channels, heads=heads)\n",
        "        self.bn1 = nn.BatchNorm1d(hidden_channels * heads)\n",
        "        self.conv2 = GATConv(hidden_channels * heads, out_channels, heads=1)\n",
        "        self.bn2 = nn.BatchNorm1d(out_channels)\n",
        "        self.fc = nn.Linear(out_channels, 2)  # Binary classification\n",
        "\n",
        "    def forward(self, x, edge_index):\n",
        "        x = F.dropout(x, p=self.dropout, training=self.training)\n",
        "        x = self.conv1(x, edge_index)\n",
        "        x = self.bn1(x)\n",
        "        x = F.elu(x)\n",
        "        x = F.dropout(x, p=self.dropout, training=self.training)\n",
        "        x = self.conv2(x, edge_index)\n",
        "        x = self.bn2(x)\n",
        "        x = F.elu(x)\n",
        "        x = self.fc(x)\n",
        "        return x\n"
      ]
    },
    {
      "cell_type": "code",
      "execution_count": 12,
      "metadata": {
        "colab": {
          "base_uri": "https://localhost:8080/"
        },
        "id": "tSPXO6Ltjz4p",
        "outputId": "8d5ad7e6-1dcb-4875-bb5e-38ab0ee54f2a"
      },
      "outputs": [
        {
          "output_type": "stream",
          "name": "stdout",
          "text": [
            "Model initialized with 25370 parameters\n"
          ]
        }
      ],
      "source": [
        "# Focal loss for imbalanced data\n",
        "class FocalLoss(nn.Module):\n",
        "    def __init__(self, gamma=2.0, alpha=0.25):\n",
        "        super(FocalLoss, self).__init__()\n",
        "        self.gamma = gamma\n",
        "        self.alpha = alpha\n",
        "\n",
        "    def forward(self, inputs, targets):\n",
        "        ce_loss = F.cross_entropy(inputs, targets, reduction='none')\n",
        "        pt = torch.exp(-ce_loss)\n",
        "        focal_loss = self.alpha * (1 - pt) ** self.gamma * ce_loss\n",
        "        return focal_loss.mean()\n",
        "\n",
        "# Initialize model, optimizer, and loss\n",
        "in_channels = node_features.shape[1]\n",
        "hidden_channels = 16  # Reduced size for CPU/memory constraints\n",
        "out_channels = 8     # Reduced size for CPU/memory constraints\n",
        "model = GATModel(in_channels=in_channels, hidden_channels=hidden_channels,\n",
        "                out_channels=out_channels).to(device)\n",
        "print(f\"Model initialized with {sum(p.numel() for p in model.parameters())} parameters\")\n",
        "\n",
        "optimizer = torch.optim.Adam(model.parameters(), lr=0.001, weight_decay=5e-4)\n",
        "criterion = FocalLoss()"
      ]
    },
    {
      "cell_type": "code",
      "source": [],
      "metadata": {
        "id": "dTKe_fCnVxsS"
      },
      "execution_count": 12,
      "outputs": []
    },
    {
      "cell_type": "code",
      "execution_count": 13,
      "metadata": {
        "colab": {
          "base_uri": "https://localhost:8080/"
        },
        "id": "YMcE1Nlaj4Cm",
        "outputId": "0810c3bf-7d6b-42d2-8a34-fe932eefd4b2"
      },
      "outputs": [
        {
          "output_type": "stream",
          "name": "stdout",
          "text": [
            "Data split: 14304 train samples, 3576 test samples\n"
          ]
        }
      ],
      "source": [
        "# Train-test split\n",
        "train_indices, test_indices = train_test_split(\n",
        "    range(len(labels)),\n",
        "    test_size=0.2,\n",
        "    stratify=labels.cpu().numpy(),  # Ensure balanced classes\n",
        "    random_state=42\n",
        ")\n",
        "train_mask = torch.zeros(len(labels), dtype=torch.bool)\n",
        "test_mask = torch.zeros(len(labels), dtype=torch.bool)\n",
        "train_mask[train_indices] = True\n",
        "test_mask[test_indices] = True\n",
        "train_mask = train_mask.to(device)\n",
        "test_mask = test_mask.to(device)\n",
        "\n",
        "data.train_mask = train_mask\n",
        "data.test_mask = test_mask\n",
        "print(f\"Data split: {train_mask.sum().item()} train samples, {test_mask.sum().item()} test samples\")\n"
      ]
    },
    {
      "cell_type": "code",
      "execution_count": 14,
      "metadata": {
        "colab": {
          "base_uri": "https://localhost:8080/"
        },
        "id": "G8y6Guqxj_Bl",
        "outputId": "599867b6-641d-43a8-8a53-266b3fb1be1f"
      },
      "outputs": [
        {
          "output_type": "stream",
          "name": "stdout",
          "text": [
            "Starting training...\n",
            "Epoch 000, Loss: 0.0604, Train Acc: 0.9472, Test Acc: 0.9480\n",
            "Epoch 005, Loss: 0.0422, Train Acc: 0.9515, Test Acc: 0.9516\n",
            "Epoch 010, Loss: 0.0341, Train Acc: 0.9516, Test Acc: 0.9516\n",
            "Epoch 015, Loss: 0.0303, Train Acc: 0.9558, Test Acc: 0.9569\n",
            "Epoch 020, Loss: 0.0274, Train Acc: 0.9648, Test Acc: 0.9656\n",
            "Epoch 025, Loss: 0.0251, Train Acc: 0.9719, Test Acc: 0.9732\n",
            "Epoch 030, Loss: 0.0235, Train Acc: 0.9777, Test Acc: 0.9804\n",
            "Epoch 035, Loss: 0.0217, Train Acc: 0.9801, Test Acc: 0.9846\n",
            "Epoch 040, Loss: 0.0203, Train Acc: 0.9822, Test Acc: 0.9855\n",
            "Epoch 045, Loss: 0.0188, Train Acc: 0.9825, Test Acc: 0.9863\n",
            "Epoch 050, Loss: 0.0176, Train Acc: 0.9813, Test Acc: 0.9863\n",
            "Epoch 055, Loss: 0.0165, Train Acc: 0.9813, Test Acc: 0.9866\n",
            "Epoch 060, Loss: 0.0154, Train Acc: 0.9818, Test Acc: 0.9871\n",
            "Epoch 065, Loss: 0.0146, Train Acc: 0.9827, Test Acc: 0.9866\n",
            "Epoch 070, Loss: 0.0135, Train Acc: 0.9836, Test Acc: 0.9874\n",
            "Epoch 075, Loss: 0.0128, Train Acc: 0.9843, Test Acc: 0.9877\n",
            "Epoch 080, Loss: 0.0119, Train Acc: 0.9848, Test Acc: 0.9880\n",
            "Epoch 085, Loss: 0.0113, Train Acc: 0.9853, Test Acc: 0.9880\n",
            "Epoch 090, Loss: 0.0105, Train Acc: 0.9854, Test Acc: 0.9880\n",
            "Epoch 095, Loss: 0.0101, Train Acc: 0.9857, Test Acc: 0.9883\n",
            "Epoch 099, Loss: 0.0096, Train Acc: 0.9860, Test Acc: 0.9888\n"
          ]
        }
      ],
      "source": [
        "# Training loop with early stopping\n",
        "def train():\n",
        "    model.train()\n",
        "    optimizer.zero_grad()\n",
        "    out = model(data.x, data.edge_index)\n",
        "    loss = criterion(out[data.train_mask], data.y[data.train_mask])\n",
        "    loss.backward()\n",
        "    optimizer.step()\n",
        "    return loss.item()\n",
        "\n",
        "def test():\n",
        "    model.eval()\n",
        "    with torch.no_grad():\n",
        "        out = model(data.x, data.edge_index)\n",
        "        pred = out.argmax(dim=1)\n",
        "        # Calculate accuracy for both train and test sets\n",
        "        train_acc = (pred[data.train_mask] == data.y[data.train_mask]).float().mean()\n",
        "        test_acc = (pred[data.test_mask] == data.y[data.test_mask]).float().mean()\n",
        "\n",
        "        # Calculate additional metrics for test set\n",
        "        y_true = data.y[data.test_mask].cpu().numpy()\n",
        "        y_pred = pred[data.test_mask].cpu().numpy()\n",
        "\n",
        "    return train_acc.item(), test_acc.item(), y_true, y_pred\n",
        "\n",
        "# Training with early stopping\n",
        "best_test_acc = 0\n",
        "patience = 10\n",
        "counter = 0\n",
        "epochs = 100  # Maximum epochs\n",
        "losses = []\n",
        "train_accs = []\n",
        "test_accs = []\n",
        "\n",
        "print(\"Starting training...\")\n",
        "for epoch in range(epochs):\n",
        "    loss = train()\n",
        "    losses.append(loss)\n",
        "\n",
        "    # Evaluate every 5 epochs to save time\n",
        "    if epoch % 5 == 0 or epoch == epochs - 1:\n",
        "        train_acc, test_acc, y_true, y_pred = test()\n",
        "        train_accs.append(train_acc)\n",
        "        test_accs.append(test_acc)\n",
        "\n",
        "        print(f'Epoch {epoch:03d}, Loss: {loss:.4f}, Train Acc: {train_acc:.4f}, Test Acc: {test_acc:.4f}')\n",
        "\n",
        "        # Check for early stopping\n",
        "        if test_acc > best_test_acc:\n",
        "            best_test_acc = test_acc\n",
        "            counter = 0\n",
        "            # Save best model\n",
        "            torch.save(model.state_dict(), 'best_gat_model.pt')\n",
        "        else:\n",
        "            counter += 1\n",
        "            if counter >= patience:\n",
        "                print(f\"Early stopping triggered after {epoch+1} epochs\")\n",
        "                break\n"
      ]
    },
    {
      "cell_type": "code",
      "execution_count": 15,
      "metadata": {
        "colab": {
          "base_uri": "https://localhost:8080/"
        },
        "id": "HkIaGMKGklyX",
        "outputId": "7bf4c9a2-d52e-4238-8ba4-8ad8f5ec138d"
      },
      "outputs": [
        {
          "output_type": "stream",
          "name": "stdout",
          "text": [
            "\n",
            "Final results - Train Acc: 0.9860, Test Acc: 0.9888\n"
          ]
        }
      ],
      "source": [
        "# Load best model for final evaluation\n",
        "model.load_state_dict(torch.load('best_gat_model.pt'))\n",
        "train_acc, test_acc, y_true, y_pred = test()\n",
        "print(f\"\\nFinal results - Train Acc: {train_acc:.4f}, Test Acc: {test_acc:.4f}\")\n"
      ]
    },
    {
      "cell_type": "code",
      "execution_count": 16,
      "metadata": {
        "colab": {
          "base_uri": "https://localhost:8080/",
          "height": 1000
        },
        "id": "yzHO_wupkrVO",
        "outputId": "a197dfcc-a303-4ace-e9c6-3526bf85106c"
      },
      "outputs": [
        {
          "output_type": "stream",
          "name": "stdout",
          "text": [
            "\n",
            "Classification Report:\n",
            "              precision    recall  f1-score   support\n",
            "\n",
            "           0       0.99      1.00      0.99      3403\n",
            "           1       0.92      0.84      0.88       173\n",
            "\n",
            "    accuracy                           0.99      3576\n",
            "   macro avg       0.96      0.92      0.94      3576\n",
            "weighted avg       0.99      0.99      0.99      3576\n",
            "\n"
          ]
        },
        {
          "output_type": "display_data",
          "data": {
            "text/plain": [
              "<Figure size 800x600 with 2 Axes>"
            ],
            "image/png": "[encoded data removed]"
          },
          "metadata": {}
        },
        {
          "output_type": "display_data",
          "data": {
            "text/plain": [
              "<Figure size 1200x400 with 2 Axes>"
            ],
            "image/png": "[encoded data removed]"
          },
          "metadata": {}
        }
      ],
      "source": [
        "# Print detailed classification report\n",
        "print(\"\\nClassification Report:\")\n",
        "print(classification_report(y_true, y_pred))\n",
        "\n",
        "# Plot confusion matrix\n",
        "cm = confusion_matrix(y_true, y_pred)\n",
        "plt.figure(figsize=(8, 6))\n",
        "sns.heatmap(cm, annot=True, fmt='d', cmap='Blues',\n",
        "            xticklabels=['Legitimate', 'Fraudulent'],\n",
        "            yticklabels=['Legitimate', 'Fraudulent'])\n",
        "plt.xlabel('Predicted')\n",
        "plt.ylabel('True')\n",
        "plt.title('Confusion Matrix')\n",
        "plt.savefig('confusion_matrix.png')\n",
        "plt.show()\n",
        "\n",
        "# Plot training curves\n",
        "plt.figure(figsize=(12, 4))\n",
        "plt.subplot(1, 2, 1)\n",
        "plt.plot(losses)\n",
        "plt.title('Training Loss')\n",
        "plt.xlabel('Epoch')\n",
        "plt.ylabel('Loss')\n",
        "\n",
        "plt.subplot(1, 2, 2)\n",
        "epochs_evaluated = range(0, epochs, 5)\n",
        "if len(train_accs) > len(epochs_evaluated):\n",
        "    epochs_evaluated = list(epochs_evaluated) + [epochs-1]\n",
        "plt.plot(epochs_evaluated, train_accs, label='Train')\n",
        "plt.plot(epochs_evaluated, test_accs, label='Test')\n",
        "plt.title('Model Accuracy')\n",
        "plt.xlabel('Epoch')\n",
        "plt.ylabel('Accuracy')\n",
        "plt.legend()\n",
        "plt.tight_layout()\n",
        "plt.savefig('training_curves.png')\n",
        "plt.show()\n"
      ]
    },
    {
      "cell_type": "code",
      "execution_count": 17,
      "metadata": {
        "colab": {
          "base_uri": "https://localhost:8080/",
          "height": 662
        },
        "id": "gzYFpm7clfUo",
        "outputId": "5eb34fc3-f7ad-47b4-cfe2-11e295136b69"
      },
      "outputs": [
        {
          "output_type": "stream",
          "name": "stdout",
          "text": [
            "\n",
            "Generating feature importance analysis...\n"
          ]
        },
        {
          "output_type": "display_data",
          "data": {
            "text/plain": [
              "<Figure size 1000x600 with 1 Axes>"
            ],
            "image/png": "[encoded data removed]"
          },
          "metadata": {}
        },
        {
          "output_type": "stream",
          "name": "stdout",
          "text": [
            "Analysis complete! The model has been trained and evaluated successfully.\n"
          ]
        }
      ],
      "source": [
        "print(\"\\nGenerating feature importance analysis...\")\n",
        "model.eval()\n",
        "\n",
        "# Extract feature names for better visualization\n",
        "feature_names = ([f'tfidf_{i}' for i in range(text_features.shape[1])] +\n",
        "                categorical_columns +\n",
        "                binary_columns)\n",
        "\n",
        "# Create a simplified feature importance visualization\n",
        "with torch.no_grad():\n",
        "    # Get model weights from the final layer\n",
        "    weights = model.fc.weight.cpu().numpy()\n",
        "\n",
        "    # Calculate absolute importance\n",
        "    importance = np.abs(weights).mean(axis=0)\n",
        "\n",
        "    # Get indices of the top 10 most important features\n",
        "    top_indices = importance.argsort()[-10:][::-1]\n",
        "\n",
        "    plt.figure(figsize=(10, 6))\n",
        "    plt.barh(range(len(top_indices)), importance[top_indices])\n",
        "\n",
        "    # Map indices to feature categories\n",
        "    feature_categories = []\n",
        "    for idx in top_indices:\n",
        "        if idx < text_features.shape[1]:\n",
        "            feature_categories.append(f'Text (TF-IDF)')\n",
        "        elif idx < text_features.shape[1] + len(categorical_columns):\n",
        "            cat_idx = idx - text_features.shape[1]\n",
        "            feature_categories.append(f'Cat: {categorical_columns[cat_idx]}')\n",
        "        else:\n",
        "            bin_idx = idx - text_features.shape[1] - len(categorical_columns)\n",
        "            feature_categories.append(f'Bin: {binary_columns[bin_idx]}')\n",
        "\n",
        "    plt.yticks(range(len(top_indices)), feature_categories)\n",
        "    plt.xlabel('Feature Importance')\n",
        "    plt.title('Top 10 Most Important Feature Categories')\n",
        "    plt.tight_layout()\n",
        "    plt.savefig('feature_importance.png')\n",
        "    plt.show()\n",
        "\n",
        "print(\"Analysis complete! The model has been trained and evaluated successfully.\")"
      ]
    }
  ],
  "metadata": {
    "accelerator": "GPU",
    "colab": {
      "gpuType": "T4",
      "provenance": [],
      "include_colab_link": true
    },
    "kernelspec": {
      "display_name": "Python 3",
      "name": "python3"
    },
    "language_info": {
      "name": "python"
    }
  },
  "nbformat": 4,
  "nbformat_minor": 0
}